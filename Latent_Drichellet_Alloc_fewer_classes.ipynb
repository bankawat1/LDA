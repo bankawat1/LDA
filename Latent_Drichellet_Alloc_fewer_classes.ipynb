{
  "nbformat": 4,
  "nbformat_minor": 0,
  "metadata": {
    "colab": {
      "provenance": [],
      "mount_file_id": "1c4icb2jFAdggALEsYCyeYWiZJOGKMHYR",
      "authorship_tag": "ABX9TyOvC6k/ZU/fUjEi7NTAXRsP",
      "include_colab_link": true
    },
    "kernelspec": {
      "name": "python3",
      "display_name": "Python 3"
    },
    "language_info": {
      "name": "python"
    }
  },
  "cells": [
    {
      "cell_type": "markdown",
      "metadata": {
        "id": "view-in-github",
        "colab_type": "text"
      },
      "source": [
        "<a href=\"https://colab.research.google.com/github/bankawat1/LDA/blob/main/Latent_Drichellet_Alloc_fewer_classes.ipynb\" target=\"_parent\"><img src=\"https://colab.research.google.com/assets/colab-badge.svg\" alt=\"Open In Colab\"/></a>"
      ]
    },
    {
      "cell_type": "markdown",
      "source": [
        "Import libraries"
      ],
      "metadata": {
        "id": "dZOFStZ14jmD"
      }
    },
    {
      "cell_type": "code",
      "source": [
        "!pip install en_core_web_sm"
      ],
      "metadata": {
        "id": "ldv-uTGmHoDT",
        "colab": {
          "base_uri": "https://localhost:8080/"
        },
        "outputId": "05127eaa-ccd4-4fa5-f684-64bbfaba9d4d"
      },
      "execution_count": 1,
      "outputs": [
        {
          "output_type": "stream",
          "name": "stdout",
          "text": [
            "Requirement already satisfied: en_core_web_sm in /usr/local/lib/python3.10/dist-packages (3.6.0)\n",
            "Requirement already satisfied: spacy<3.7.0,>=3.6.0 in /usr/local/lib/python3.10/dist-packages (from en_core_web_sm) (3.6.1)\n",
            "Requirement already satisfied: spacy-legacy<3.1.0,>=3.0.11 in /usr/local/lib/python3.10/dist-packages (from spacy<3.7.0,>=3.6.0->en_core_web_sm) (3.0.12)\n",
            "Requirement already satisfied: spacy-loggers<2.0.0,>=1.0.0 in /usr/local/lib/python3.10/dist-packages (from spacy<3.7.0,>=3.6.0->en_core_web_sm) (1.0.4)\n",
            "Requirement already satisfied: murmurhash<1.1.0,>=0.28.0 in /usr/local/lib/python3.10/dist-packages (from spacy<3.7.0,>=3.6.0->en_core_web_sm) (1.0.9)\n",
            "Requirement already satisfied: cymem<2.1.0,>=2.0.2 in /usr/local/lib/python3.10/dist-packages (from spacy<3.7.0,>=3.6.0->en_core_web_sm) (2.0.7)\n",
            "Requirement already satisfied: preshed<3.1.0,>=3.0.2 in /usr/local/lib/python3.10/dist-packages (from spacy<3.7.0,>=3.6.0->en_core_web_sm) (3.0.8)\n",
            "Requirement already satisfied: thinc<8.2.0,>=8.1.8 in /usr/local/lib/python3.10/dist-packages (from spacy<3.7.0,>=3.6.0->en_core_web_sm) (8.1.12)\n",
            "Requirement already satisfied: wasabi<1.2.0,>=0.9.1 in /usr/local/lib/python3.10/dist-packages (from spacy<3.7.0,>=3.6.0->en_core_web_sm) (1.1.2)\n",
            "Requirement already satisfied: srsly<3.0.0,>=2.4.3 in /usr/local/lib/python3.10/dist-packages (from spacy<3.7.0,>=3.6.0->en_core_web_sm) (2.4.7)\n",
            "Requirement already satisfied: catalogue<2.1.0,>=2.0.6 in /usr/local/lib/python3.10/dist-packages (from spacy<3.7.0,>=3.6.0->en_core_web_sm) (2.0.9)\n",
            "Requirement already satisfied: typer<0.10.0,>=0.3.0 in /usr/local/lib/python3.10/dist-packages (from spacy<3.7.0,>=3.6.0->en_core_web_sm) (0.9.0)\n",
            "Requirement already satisfied: pathy>=0.10.0 in /usr/local/lib/python3.10/dist-packages (from spacy<3.7.0,>=3.6.0->en_core_web_sm) (0.10.2)\n",
            "Requirement already satisfied: smart-open<7.0.0,>=5.2.1 in /usr/local/lib/python3.10/dist-packages (from spacy<3.7.0,>=3.6.0->en_core_web_sm) (6.4.0)\n",
            "Requirement already satisfied: tqdm<5.0.0,>=4.38.0 in /usr/local/lib/python3.10/dist-packages (from spacy<3.7.0,>=3.6.0->en_core_web_sm) (4.66.1)\n",
            "Requirement already satisfied: numpy>=1.15.0 in /usr/local/lib/python3.10/dist-packages (from spacy<3.7.0,>=3.6.0->en_core_web_sm) (1.23.5)\n",
            "Requirement already satisfied: requests<3.0.0,>=2.13.0 in /usr/local/lib/python3.10/dist-packages (from spacy<3.7.0,>=3.6.0->en_core_web_sm) (2.31.0)\n",
            "Requirement already satisfied: pydantic!=1.8,!=1.8.1,<3.0.0,>=1.7.4 in /usr/local/lib/python3.10/dist-packages (from spacy<3.7.0,>=3.6.0->en_core_web_sm) (1.10.12)\n",
            "Requirement already satisfied: jinja2 in /usr/local/lib/python3.10/dist-packages (from spacy<3.7.0,>=3.6.0->en_core_web_sm) (3.1.2)\n",
            "Requirement already satisfied: setuptools in /usr/local/lib/python3.10/dist-packages (from spacy<3.7.0,>=3.6.0->en_core_web_sm) (67.7.2)\n",
            "Requirement already satisfied: packaging>=20.0 in /usr/local/lib/python3.10/dist-packages (from spacy<3.7.0,>=3.6.0->en_core_web_sm) (23.1)\n",
            "Requirement already satisfied: langcodes<4.0.0,>=3.2.0 in /usr/local/lib/python3.10/dist-packages (from spacy<3.7.0,>=3.6.0->en_core_web_sm) (3.3.0)\n",
            "Requirement already satisfied: typing-extensions>=4.2.0 in /usr/local/lib/python3.10/dist-packages (from pydantic!=1.8,!=1.8.1,<3.0.0,>=1.7.4->spacy<3.7.0,>=3.6.0->en_core_web_sm) (4.5.0)\n",
            "Requirement already satisfied: charset-normalizer<4,>=2 in /usr/local/lib/python3.10/dist-packages (from requests<3.0.0,>=2.13.0->spacy<3.7.0,>=3.6.0->en_core_web_sm) (3.2.0)\n",
            "Requirement already satisfied: idna<4,>=2.5 in /usr/local/lib/python3.10/dist-packages (from requests<3.0.0,>=2.13.0->spacy<3.7.0,>=3.6.0->en_core_web_sm) (3.4)\n",
            "Requirement already satisfied: urllib3<3,>=1.21.1 in /usr/local/lib/python3.10/dist-packages (from requests<3.0.0,>=2.13.0->spacy<3.7.0,>=3.6.0->en_core_web_sm) (2.0.4)\n",
            "Requirement already satisfied: certifi>=2017.4.17 in /usr/local/lib/python3.10/dist-packages (from requests<3.0.0,>=2.13.0->spacy<3.7.0,>=3.6.0->en_core_web_sm) (2023.7.22)\n",
            "Requirement already satisfied: blis<0.8.0,>=0.7.8 in /usr/local/lib/python3.10/dist-packages (from thinc<8.2.0,>=8.1.8->spacy<3.7.0,>=3.6.0->en_core_web_sm) (0.7.10)\n",
            "Requirement already satisfied: confection<1.0.0,>=0.0.1 in /usr/local/lib/python3.10/dist-packages (from thinc<8.2.0,>=8.1.8->spacy<3.7.0,>=3.6.0->en_core_web_sm) (0.1.2)\n",
            "Requirement already satisfied: click<9.0.0,>=7.1.1 in /usr/local/lib/python3.10/dist-packages (from typer<0.10.0,>=0.3.0->spacy<3.7.0,>=3.6.0->en_core_web_sm) (8.1.7)\n",
            "Requirement already satisfied: MarkupSafe>=2.0 in /usr/local/lib/python3.10/dist-packages (from jinja2->spacy<3.7.0,>=3.6.0->en_core_web_sm) (2.1.3)\n"
          ]
        }
      ]
    },
    {
      "cell_type": "code",
      "source": [
        "import pandas as pd\n",
        "import numpy as np"
      ],
      "metadata": {
        "id": "TFBU3Lz74MOn"
      },
      "execution_count": 2,
      "outputs": []
    },
    {
      "cell_type": "markdown",
      "source": [
        "Fetch Text dataset"
      ],
      "metadata": {
        "id": "2AfSRYkM3ore"
      }
    },
    {
      "cell_type": "code",
      "source": [
        "from sklearn.datasets import fetch_20newsgroups\n",
        "\n",
        "nwtrain = fetch_20newsgroups(subset='all',shuffle=True, \\\n",
        "                             random_state=42,remove=('headers', 'footers', 'quotes'), \\\n",
        "                             categories=['talk.politics.guns','comp.graphics','rec.autos','sci.med'])"
      ],
      "metadata": {
        "id": "VdEaINSHvBGG"
      },
      "execution_count": 28,
      "outputs": []
    },
    {
      "cell_type": "code",
      "source": [
        "# nwtrain.data"
      ],
      "metadata": {
        "id": "sEcaz2LcwGOw"
      },
      "execution_count": 29,
      "outputs": []
    },
    {
      "cell_type": "code",
      "source": [
        "nwtrain_ = [(data,target) for data, target in zip(nwtrain.data, nwtrain.target) if not len(data.split()) < 10]"
      ],
      "metadata": {
        "id": "QQz3okjzuY6K"
      },
      "execution_count": 30,
      "outputs": []
    },
    {
      "cell_type": "code",
      "source": [
        "nwtrain_data = np.array(nwtrain_)[:,0]"
      ],
      "metadata": {
        "id": "d2J00USZx-LB"
      },
      "execution_count": 31,
      "outputs": []
    },
    {
      "cell_type": "code",
      "source": [
        "nwtrain_target = np.array(nwtrain_)[:,1]"
      ],
      "metadata": {
        "id": "Kk33MUJ9zjHa"
      },
      "execution_count": 32,
      "outputs": []
    },
    {
      "cell_type": "markdown",
      "source": [
        "Plot target distribution"
      ],
      "metadata": {
        "id": "-sJJbl_b3jAa"
      }
    },
    {
      "cell_type": "code",
      "source": [
        "\n",
        "nwtrain_data.__len__()"
      ],
      "metadata": {
        "colab": {
          "base_uri": "https://localhost:8080/"
        },
        "id": "xp8lAQo8AdOX",
        "outputId": "ec485b19-9532-4596-f94d-31f6aada1ab9"
      },
      "execution_count": 33,
      "outputs": [
        {
          "output_type": "execute_result",
          "data": {
            "text/plain": [
              "3634"
            ]
          },
          "metadata": {},
          "execution_count": 33
        }
      ]
    },
    {
      "cell_type": "code",
      "source": [
        "tnames = pd.Series(nwtrain.target_names)\n",
        "tnames"
      ],
      "metadata": {
        "colab": {
          "base_uri": "https://localhost:8080/"
        },
        "id": "j9FL4o4j25-w",
        "outputId": "5b81dc61-774d-4cd1-a050-52d966e32f33"
      },
      "execution_count": 34,
      "outputs": [
        {
          "output_type": "execute_result",
          "data": {
            "text/plain": [
              "0         comp.graphics\n",
              "1             rec.autos\n",
              "2               sci.med\n",
              "3    talk.politics.guns\n",
              "dtype: object"
            ]
          },
          "metadata": {},
          "execution_count": 34
        }
      ]
    },
    {
      "cell_type": "code",
      "source": [
        "pd.Series(nwtrain_target,dtype=int).map(tnames).value_counts().plot.barh()"
      ],
      "metadata": {
        "colab": {
          "base_uri": "https://localhost:8080/",
          "height": 537
        },
        "id": "TGuJH3ggxIPc",
        "outputId": "b9710f2e-3a03-4e80-e3fa-17fcba73538b"
      },
      "execution_count": 35,
      "outputs": [
        {
          "output_type": "stream",
          "name": "stderr",
          "text": [
            "/usr/local/lib/python3.10/dist-packages/numpy/core/numeric.py:2463: FutureWarning: elementwise comparison failed; returning scalar instead, but in the future will perform elementwise comparison\n",
            "  return bool(asarray(a1 == a2).all())\n",
            "<ipython-input-35-539d8c87c195>:1: FutureWarning: Values are too large to be losslessly cast to int64. In a future version this will raise OverflowError. To retain the old behavior, use pd.Series(values).astype(int64)\n",
            "  pd.Series(nwtrain_target,dtype=int).map(tnames).value_counts().plot.barh()\n"
          ]
        },
        {
          "output_type": "execute_result",
          "data": {
            "text/plain": [
              "<Axes: >"
            ]
          },
          "metadata": {},
          "execution_count": 35
        },
        {
          "output_type": "display_data",
          "data": {
            "text/plain": [
              "<Figure size 640x480 with 1 Axes>"
            ],
            "image/png": "[encoded data removed]"
          },
          "metadata": {}
        }
      ]
    },
    {
      "cell_type": "markdown",
      "source": [
        "Dataset samples"
      ],
      "metadata": {
        "id": "J50J0zK6843e"
      }
    },
    {
      "cell_type": "code",
      "source": [],
      "metadata": {
        "id": "dpV0QLjpuPM1"
      },
      "execution_count": 35,
      "outputs": []
    },
    {
      "cell_type": "code",
      "source": [
        "nwtrain_data[0]"
      ],
      "metadata": {
        "colab": {
          "base_uri": "https://localhost:8080/",
          "height": 139
        },
        "id": "lwJFxJnc8PMg",
        "outputId": "f2b463e3-38d2-4016-fac1-ccaebde61274"
      },
      "execution_count": 63,
      "outputs": [
        {
          "output_type": "execute_result",
          "data": {
            "text/plain": [
              "\"Looking for a graphics/CAD/or-whatever package on a X-Unix box that will\\ntake a file with records like:\\n\\nn  a  b  p\\n\\nwhere n = a count  - integer \\n      a = entity a - string\\n      b = entity b - string\\n      p = type     - string\\n\\nand produce a networked graph with nodes represented with boxes or circles\\nand the vertices represented by lines and the width of the line determined by\\nn.  There would be a different line type for each type of vertice. The boxes\\nneed to be identified with the entity's name.  The number of entities < 1000\\nand vertices < 100000.  It would be nice if the tool minimized line\\ncross-overs and did a good job of layout.  ;-)\\n\\n  I have looked in the FAQ for comp.graphics and gnuplot without success. Any\\nideas would be appreciated?\\n\\nThanks,\""
            ],
            "application/vnd.google.colaboratory.intrinsic+json": {
              "type": "string"
            }
          },
          "metadata": {},
          "execution_count": 63
        }
      ]
    },
    {
      "cell_type": "code",
      "source": [
        "nwtrain_target[0]"
      ],
      "metadata": {
        "colab": {
          "base_uri": "https://localhost:8080/",
          "height": 35
        },
        "id": "EmNeOI0I-gwS",
        "outputId": "a79ea335-cf8d-4f8b-c3a1-0ff52d62346e"
      },
      "execution_count": 64,
      "outputs": [
        {
          "output_type": "execute_result",
          "data": {
            "text/plain": [
              "'0'"
            ],
            "application/vnd.google.colaboratory.intrinsic+json": {
              "type": "string"
            }
          },
          "metadata": {},
          "execution_count": 64
        }
      ]
    },
    {
      "cell_type": "markdown",
      "source": [
        "select small dataset"
      ],
      "metadata": {
        "id": "KYaxrWJjqz1H"
      }
    },
    {
      "cell_type": "code",
      "source": [
        "nwtrain_data = nwtrain_data #nwtrain.data[:1000]"
      ],
      "metadata": {
        "id": "Yr6u3c2RqyV_"
      },
      "execution_count": 37,
      "outputs": []
    },
    {
      "cell_type": "markdown",
      "source": [
        "Preprocess the data"
      ],
      "metadata": {
        "id": "uPfyrYfX9Sg5"
      }
    },
    {
      "cell_type": "code",
      "source": [
        "import spacy"
      ],
      "metadata": {
        "id": "4Q0yjTEFDvbI"
      },
      "execution_count": 38,
      "outputs": []
    },
    {
      "cell_type": "code",
      "source": [
        "pd.set_option('max_colwidth',400)"
      ],
      "metadata": {
        "id": "bU9Sjm7HrHR1"
      },
      "execution_count": 39,
      "outputs": []
    },
    {
      "cell_type": "code",
      "source": [
        "en = spacy.load('en_core_web_sm')"
      ],
      "metadata": {
        "id": "dMaf-rWqHWmh"
      },
      "execution_count": 40,
      "outputs": []
    },
    {
      "cell_type": "markdown",
      "source": [
        "\n",
        "stop words\n",
        "\n",
        "\n"
      ],
      "metadata": {
        "id": "-kUgGdFOPiAY"
      }
    },
    {
      "cell_type": "code",
      "source": [
        "import re\n",
        "print(en.Defaults.stop_words.__len__())\n",
        "stopwords = en.Defaults.stop_words\n",
        "stopwords.update({'{','}','[',']','(',')'})\n",
        "print(stopwords)"
      ],
      "metadata": {
        "colab": {
          "base_uri": "https://localhost:8080/"
        },
        "id": "T9mMXPlCQx5k",
        "outputId": "d8d3927c-360e-48da-84cc-d8389fc1eb84"
      },
      "execution_count": 41,
      "outputs": [
        {
          "output_type": "stream",
          "name": "stdout",
          "text": [
            "326\n",
            "{'therein', 'herself', 're', \"'d\", '‘re', 'back', 'yet', '’d', 'please', 'many', 'whatever', 'in', 'off', 'even', 'seems', 'with', 'everything', 'six', 'at', 'some', 'almost', 'before', 'itself', 'take', 'whither', 'third', 'her', 'one', 'will', 'being', 'whenever', 'is', 'i', 'thence', 'up', 'unless', 'anyway', '{', 'these', 'every', \"'re\", 'below', 'cannot', 'ever', 'any', 'enough', 'were', 'whose', 'a', 'neither', 'everywhere', '}', 'always', 'been', 'afterwards', 'namely', 'you', 'much', 'over', 'put', 'ours', 'without', 'side', 'whoever', 'those', 'we', 'here', 'often', 'perhaps', 'somehow', 'thereby', 'himself', 'nowhere', 'or', 'several', 'by', 'yours', 'per', 'such', 'bottom', '‘d', 'top', 'quite', 'everyone', 'no', 'to', 'get', 'moreover', ']', 'yourself', 'throughout', 'nevertheless', 'few', 'so', 'latterly', 'ourselves', 'more', 'though', 'must', 'beside', 'thru', 'wherever', '‘m', 'for', 'due', 'now', 'beyond', 'meanwhile', 'together', 'hereby', 'see', 'where', 'n’t', 'may', 'well', 'it', 'otherwise', 'became', 'keep', 'toward', 'other', 'anything', 'would', 'eleven', 'via', 'under', 'others', 'has', 'either', '‘s', 'thus', 'regarding', 'mine', 'was', '’ll', 'after', 'twelve', 'empty', 'anywhere', 'she', 'around', 'hereafter', 'onto', \"n't\", 'into', 'however', 'just', 'while', 'because', 'various', 'behind', 'are', 'first', 'our', 'might', 'using', 'already', 'same', 'us', 'be', 'within', 'themselves', 'and', 'until', 'he', 'myself', 'show', 'their', 'since', 'next', 'whereas', 'had', 'do', 'somewhere', 'each', 'beforehand', 'me', 'whereafter', 'eight', 'seem', 'too', 'that', 'whom', 'not', 'thereafter', 'never', 'through', 'nobody', 'from', 'than', 'least', 'part', '’s', 'why', 'further', 'both', 'during', 'anyone', 'become', 'of', 'amount', 'most', 'four', 'last', 'indeed', 'another', 'mostly', 'they', 'sometimes', \"'ll\", 'move', 'across', 'make', 'whole', 'can', 'which', 'could', 'your', 'who', 'very', 'its', 'used', 'as', 'therefore', 'then', 'hereupon', 'two', 'although', \"'s\", 'really', 'also', 'still', 'him', 'amongst', 'hence', 'seemed', 'yourselves', 'does', 'an', 'the', 'something', 'say', 'there', 'once', 'between', 'what', '(', 'n‘t', 'my', 'rather', 'former', 'becomes', 'latter', 'against', ')', 'fifty', 'except', 'thereupon', 'towards', 'someone', 'when', 'about', 'forty', 'again', 'his', 'full', 'five', 'serious', '‘ve', 'but', 'them', 'fifteen', 'did', 'hundred', '’m', 'down', 'three', 'nor', 'upon', 'nothing', 'hers', 'elsewhere', 'seeming', 'sixty', 'should', 'only', '’re', 'whereby', 'front', 'besides', 'how', 'none', 'anyhow', 'else', 'above', 'all', 'alone', 'ca', 'herein', 'doing', 'along', \"'ve\", 'go', 'this', 'name', 'whence', '[', 'if', 'give', 'becoming', 'on', 'less', 'whether', 'nine', 'sometime', '‘ll', 'made', 'own', 'twenty', 'ten', '’ve', 'formerly', 'noone', 'have', 'am', 'wherein', 'whereupon', \"'m\", 'among', 'done', 'call', 'out'}\n"
          ]
        }
      ]
    },
    {
      "cell_type": "code",
      "source": [
        "def pre_process_text(text):\n",
        "  #lower\n",
        "  text = text.lower()\n",
        "\n",
        "  #tokenize\n",
        "  token_list = [str(val) for val in en.tokenizer(text)]\n",
        "\n",
        "  #remove stopwords\n",
        "  token_list = [word for word in token_list if word not in stopwords]\n",
        "\n",
        "  #remove words < 3 character\n",
        "  token_list = [word for word in token_list if not len(word) < 3]\n",
        "\n",
        "  #remove non-alpha numeric characters\n",
        "  token_list = [re.sub(r\"\\W\", ' ', val).strip() for val in token_list]\n",
        "  token_list = [val for val in token_list if val != \"\"]\n",
        "  merged_text = ' '.join(token_list)\n",
        "\n",
        "  #lemmatize\n",
        "  token_list = [word.lemma_ for word in en(merged_text) ]  #TODO: lemmatizer converting 'is' to 'be'.\n",
        "\n",
        "  #remove words < 3 character\n",
        "  token_list = [word for word in token_list if not len(word) < 3]\n",
        "\n",
        "  return token_list\n"
      ],
      "metadata": {
        "id": "3h7CNkbUHhGW"
      },
      "execution_count": 42,
      "outputs": []
    },
    {
      "cell_type": "code",
      "source": [
        "df = pd.Series(nwtrain_data).apply(lambda x:  pre_process_text(x))"
      ],
      "metadata": {
        "id": "BdNmgyy3SaeY"
      },
      "execution_count": 43,
      "outputs": []
    },
    {
      "cell_type": "code",
      "source": [
        "df.head()"
      ],
      "metadata": {
        "colab": {
          "base_uri": "https://localhost:8080/"
        },
        "id": "0jHe4jUsTRsj",
        "outputId": "82589e43-fe71-404f-fd42-a420ac31a317"
      },
      "execution_count": 44,
      "outputs": [
        {
          "output_type": "execute_result",
          "data": {
            "text/plain": [
              "0    [look, graphic, cad, package, unix, box, file, record, like, count, integer, entity, string, entity, string, type, string, produce, network, graph, node, represent, box, circle, vertice, represent, line, width, line, determine, different, line, type, type, vertice, box, need, identify, entity, number, entity, 1000, vertice, 100000, nice, tool, minimize, line, cross, over, good, job, layout, lo...\n",
              "1    [immediate, release, editorial, contact, single, source, marketing, myra, manahan, 714, 545, 1338, genoa, systems, joseph, brunoli, 408, 432, 9090, neil, roehm, 408, 432, 9090, technical, genoa, present, high, performance, video, graphic, accelerator, san, jose, calif, usa, genoa, systems, corporation, announce, windowsvga, true, color, bit, graphic, accelerator, card, deliver, million, color,...\n",
              "2    [utah, raster, toolkit, getx11, convert, sun, raster, file, presumably, ppm, pbm, toolkit, convert, ppm, utah, rle, format, ppmtorle, provide, toolkit, remember, xloadimage, bit, server, possibly, xwud, window, dump, program, display, bit, image, certainly, xwd, grab, chris, lilley, technical, author, itti, computer, graphic, visualisation, training, project, computer, graphic, unit, mancheste...\n",
              "3    [plannig, trade, sentra, nx2000, car, 500, mile, model, nx2000, dealer, selling, model, 000miles, bar, roof, airbag, sentra, ask, 1500, fair, deal, thing, notice, nx2000, engine, torque, sentra, identical, engine, presume, lady, owner, push, engine, limit, occassionaly, thuis, nx2000, engine, little, tight, buy, nx2000, excercise, slight, power, problem, away, advice, appreciate, thank, reply,...\n",
              "4    [alright, beat, automobile, sight, drive, hair, north, atlanta, notice, old, run, car, dealership, appear, deal, repair, old, rare, exotic, foreign, sport, car, see, ford, famous, model, ford, win, race, late, include, mans, times, jensen, interceptor, convertable, hatchback, porsche, 911, bore, compare, rest, ferarrie, mondial, 308, prepared, racing, red, model, identify, late, convertable, o...\n",
              "dtype: object"
            ]
          },
          "metadata": {},
          "execution_count": 44
        }
      ]
    },
    {
      "cell_type": "markdown",
      "source": [
        "Applying LDA"
      ],
      "metadata": {
        "id": "njHI3I0f2xop"
      }
    },
    {
      "cell_type": "code",
      "source": [
        "import gensim"
      ],
      "metadata": {
        "id": "e_bybWGr3ifr"
      },
      "execution_count": 45,
      "outputs": []
    },
    {
      "cell_type": "code",
      "source": [
        "dictnry = gensim.corpora.Dictionary(df)\n",
        "dictnry.filter_extremes(no_above=0.7)\n"
      ],
      "metadata": {
        "id": "FfkQfSqC4jH7"
      },
      "execution_count": 46,
      "outputs": []
    },
    {
      "cell_type": "code",
      "source": [
        "# remove empty tokens\n",
        "bad_keys = []\n",
        "for key,val in dictnry.items():\n",
        "  if val.isspace():\n",
        "    print(key, val)\n",
        "    bad_keys.append(key)\n",
        "dictnry.filter_tokens(bad_ids=bad_keys)"
      ],
      "metadata": {
        "id": "Z35y-ZaNJ88g",
        "colab": {
          "base_uri": "https://localhost:8080/"
        },
        "outputId": "3dddd8c6-1641-4d89-c123-815134d6e47a"
      },
      "execution_count": 47,
      "outputs": [
        {
          "output_type": "stream",
          "name": "stdout",
          "text": [
            "5596     \n",
            "6367    \n"
          ]
        }
      ]
    },
    {
      "cell_type": "code",
      "source": [],
      "metadata": {
        "id": "GtR7VasDLKMf"
      },
      "execution_count": 47,
      "outputs": []
    },
    {
      "cell_type": "code",
      "source": [
        "print(f\"length of dict: {dictnry.items().__len__()}\")\n",
        "# bow"
      ],
      "metadata": {
        "colab": {
          "base_uri": "https://localhost:8080/"
        },
        "id": "d-ZHB-W97LY7",
        "outputId": "22edf36b-1b49-48d6-cde0-e113df776998"
      },
      "execution_count": 48,
      "outputs": [
        {
          "output_type": "stream",
          "name": "stdout",
          "text": [
            "length of dict: 6386\n"
          ]
        }
      ]
    },
    {
      "cell_type": "code",
      "source": [
        "bow = [dictnry.doc2bow(doc) for doc in df]"
      ],
      "metadata": {
        "id": "tH225iv5GHk1"
      },
      "execution_count": 49,
      "outputs": []
    },
    {
      "cell_type": "code",
      "source": [
        "NUM_OF_TOPICS = 4"
      ],
      "metadata": {
        "id": "psS-3ne0AO1u"
      },
      "execution_count": 77,
      "outputs": []
    },
    {
      "cell_type": "code",
      "source": [
        "\n",
        "lda_model =  gensim.models.LdaMulticore(bow,\n",
        "                                   num_topics = NUM_OF_TOPICS,\n",
        "                                   id2word = dictnry,\n",
        "                                   passes = 10,\n",
        "                                   workers = 2)"
      ],
      "metadata": {
        "id": "mEoDxzEcrUON"
      },
      "execution_count": 73,
      "outputs": []
    },
    {
      "cell_type": "code",
      "source": [
        "[dictnry.id2token[val[0]] for val in bow[0]]"
      ],
      "metadata": {
        "id": "WaBFh7SkjoBj"
      },
      "execution_count": null,
      "outputs": []
    },
    {
      "cell_type": "code",
      "source": [
        "# # dictnry.id2token[1]\n",
        "# for item in dictnry.items():\n",
        "#   print(item)\n",
        "#   if item[0] == 10:\n",
        "#     break"
      ],
      "metadata": {
        "id": "NtGlc8YukIAf"
      },
      "execution_count": null,
      "outputs": []
    },
    {
      "cell_type": "code",
      "source": [
        "# lda_model.get_topics().shape\n",
        "# len(bow),bow[0]"
      ],
      "metadata": {
        "id": "_a0C73bD7q0a"
      },
      "execution_count": null,
      "outputs": []
    },
    {
      "cell_type": "code",
      "source": [
        "# lda_model.get_document_topics(bow=bow[15])"
      ],
      "metadata": {
        "id": "DtauVweY8RNJ"
      },
      "execution_count": null,
      "outputs": []
    },
    {
      "cell_type": "code",
      "source": [
        "# lda_model.get_topic_terms(0, topn=None).__len__()"
      ],
      "metadata": {
        "id": "m6rZYNda9TlU"
      },
      "execution_count": null,
      "outputs": []
    },
    {
      "cell_type": "code",
      "source": [
        "for i in range(NUM_OF_TOPICS):\n",
        "  print([word for word, prob in lda_model.show_topic(i,topn=40)])\n",
        "# lda_model.id2word"
      ],
      "metadata": {
        "colab": {
          "base_uri": "https://localhost:8080/"
        },
        "id": "fcrI9FcM9ptp",
        "outputId": "fa15305a-d347-4b6e-cca7-72ab0a259219"
      },
      "execution_count": 96,
      "outputs": [
        {
          "output_type": "stream",
          "name": "stdout",
          "text": [
            "['car', 'know', 'like', 'think', 'good', 'look', 'new', 'problem', 'time', 'drive', 'engine', 'year', 'want', 'get', 'buy', 'work', 'thing', 'come', 'speed', 'question', 'auto', 'find', 'well', 'right', 'way', 'use', 'people', 'thank', 'tell', 'say', 'point', 'post', 'price', 'oil', 'need', 'try', 'lot', 'long', 'dealer', 'change']\n",
            "['people', 'gun', 'know', 'think', 'time', 'like', 'good', 'say', 'fire', 'cause', 'day', 'thing', 'right', 'year', 'find', 'use', 'problem', 'fbi', 'way', 'law', 'doctor', 'come', 'try', 'believe', 'get', 'want', 'tell', 'weapon', 'government', 'patient', 'need', 'start', 'food', 'kill', 'point', 'child', 'effect', 'work', 'take', 'hear']\n",
            "['gun', 'file', 'disease', 'health', '1993', 'number', 'year', 'use', 'state', 'firearm', 'hiv', 'cancer', 'medical', 'right', 'study', 'new', 'control', 'research', 'patient', 'page', 'report', 'april', 'national', 'rate', 'center', 'law', 'information', 'people', 'include', 'university', 'public', 'states', 'high', 'case', 'drug', 'weapon', 'bill', 'militia', 'united', 'handgun']\n",
            "['image', 'file', 'edu', 'graphic', 'jpeg', 'format', 'program', 'color', 'use', 'available', 'gif', 'software', 'bit', 'ftp', 'system', 'com', 'version', 'display', 'mail', 'pub', 'package', 'datum', 'support', 'know', 'include', 'send', 'computer', 'information', 'work', 'code', 'look', 'like', 'find', 'write', 'need', 'line', 'run', 'user', 'list', 'good']\n"
          ]
        }
      ]
    },
    {
      "cell_type": "code",
      "source": [
        "lda_model.show_topic(0,topn=40)"
      ],
      "metadata": {
        "id": "RRTRINypBZgN"
      },
      "execution_count": null,
      "outputs": []
    },
    {
      "cell_type": "markdown",
      "source": [
        "\n",
        "\n",
        "```\n",
        "# This is formatted as code\n",
        "```\n",
        "lda_model.get_document_topics(bow[0])\n",
        "[(8, 0.17350385), (16, 0.79686207)]"
      ],
      "metadata": {
        "id": "yRlkf41RvP1U"
      }
    },
    {
      "cell_type": "code",
      "source": [
        "lda_model.get_document_topics(bow[0])"
      ],
      "metadata": {
        "colab": {
          "base_uri": "https://localhost:8080/"
        },
        "id": "3WrzFNVMwcH6",
        "outputId": "5f17bcc2-e945-4eac-fc69-a3c491832451"
      },
      "execution_count": 79,
      "outputs": [
        {
          "output_type": "execute_result",
          "data": {
            "text/plain": [
              "[(0, 0.11732056), (3, 0.8740318)]"
            ]
          },
          "metadata": {},
          "execution_count": 79
        }
      ]
    },
    {
      "cell_type": "code",
      "source": [
        "#previous code\n",
        "#lda_model.get_document_topics(bow[0])"
      ],
      "metadata": {
        "id": "qb7--FghmWrx"
      },
      "execution_count": null,
      "outputs": []
    },
    {
      "cell_type": "markdown",
      "source": [
        "## Word2Vec"
      ],
      "metadata": {
        "id": "L6Cr5XgULSQs"
      }
    },
    {
      "cell_type": "code",
      "source": [
        "import gensim\n",
        "from gensim.models import Word2Vec"
      ],
      "metadata": {
        "id": "94qs1fWR_9Pn"
      },
      "execution_count": 80,
      "outputs": []
    },
    {
      "cell_type": "code",
      "source": [
        "# Word2Vec()\n",
        "# from gensim.test.utils import common_texts"
      ],
      "metadata": {
        "id": "hqCAceOnLy9L"
      },
      "execution_count": 81,
      "outputs": []
    },
    {
      "cell_type": "code",
      "source": [
        "# model = Word2Vec(sentences=common_texts, vector_size=100, window=5, min_count=1, workers=4)"
      ],
      "metadata": {
        "id": "uYqQo0TtHtRe"
      },
      "execution_count": 82,
      "outputs": []
    },
    {
      "cell_type": "markdown",
      "source": [
        "training for Phrases"
      ],
      "metadata": {
        "id": "bgy3RvknzRPW"
      }
    },
    {
      "cell_type": "code",
      "source": [
        "# from gensim.models import Phrases\n",
        "# bigram_transformer = Phrases(common_texts)\n",
        "# bb = bigram_transformer[common_texts]"
      ],
      "metadata": {
        "id": "LQpb3VBkD-ZO"
      },
      "execution_count": null,
      "outputs": []
    },
    {
      "cell_type": "markdown",
      "source": [
        "using Pretrained Word2Vec"
      ],
      "metadata": {
        "id": "DZJNjc8uzgHw"
      }
    },
    {
      "cell_type": "code",
      "source": [
        "import gensim.downloader as gdl"
      ],
      "metadata": {
        "id": "oEdFbfo8zfko"
      },
      "execution_count": 55,
      "outputs": []
    },
    {
      "cell_type": "code",
      "source": [
        "model= gdl.load('fasttext-wiki-news-subwords-300')"
      ],
      "metadata": {
        "id": "shExjiCE10ud",
        "colab": {
          "base_uri": "https://localhost:8080/"
        },
        "outputId": "a030b888-c8f1-4e76-dc78-987b25c4f2cc"
      },
      "execution_count": 59,
      "outputs": [
        {
          "output_type": "stream",
          "name": "stdout",
          "text": [
            "[==================================================] 100.0% 958.5/958.4MB downloaded\n"
          ]
        }
      ]
    },
    {
      "cell_type": "code",
      "source": [
        "from gensim.models import KeyedVectors\n",
        "model = KeyedVectors.load('fasttext-300.wordvectors')\n",
        "# model.save('fasttext-300.wordvectors')\n",
        "# saved_model = model.load('fasttext-300.wordvectors')\n",
        "\n",
        "# saved_model['banking'].shape\n",
        "# gdl.info()['models']['fasttext-wiki-news-subwords-300']\n",
        "# gendownld.info()['models']['glove-wiki-gigaword-300']"
      ],
      "metadata": {
        "id": "nccNavfH5H7-",
        "colab": {
          "base_uri": "https://localhost:8080/",
          "height": 408
        },
        "outputId": "270b7a98-0c91-453e-e176-8f4cd053434b"
      },
      "execution_count": 57,
      "outputs": [
        {
          "output_type": "error",
          "ename": "FileNotFoundError",
          "evalue": "ignored",
          "traceback": [
            "\u001b[0;31m---------------------------------------------------------------------------\u001b[0m",
            "\u001b[0;31mFileNotFoundError\u001b[0m                         Traceback (most recent call last)",
            "\u001b[0;32m<ipython-input-57-43023f192e34>\u001b[0m in \u001b[0;36m<cell line: 2>\u001b[0;34m()\u001b[0m\n\u001b[1;32m      1\u001b[0m \u001b[0;32mfrom\u001b[0m \u001b[0mgensim\u001b[0m\u001b[0;34m.\u001b[0m\u001b[0mmodels\u001b[0m \u001b[0;32mimport\u001b[0m \u001b[0mKeyedVectors\u001b[0m\u001b[0;34m\u001b[0m\u001b[0;34m\u001b[0m\u001b[0m\n\u001b[0;32m----> 2\u001b[0;31m \u001b[0mmodel\u001b[0m \u001b[0;34m=\u001b[0m \u001b[0mKeyedVectors\u001b[0m\u001b[0;34m.\u001b[0m\u001b[0mload\u001b[0m\u001b[0;34m(\u001b[0m\u001b[0;34m'fasttext-300.wordvectors'\u001b[0m\u001b[0;34m)\u001b[0m\u001b[0;34m\u001b[0m\u001b[0;34m\u001b[0m\u001b[0m\n\u001b[0m\u001b[1;32m      3\u001b[0m \u001b[0;31m# model.save('fasttext-300.wordvectors')\u001b[0m\u001b[0;34m\u001b[0m\u001b[0;34m\u001b[0m\u001b[0m\n\u001b[1;32m      4\u001b[0m \u001b[0;31m# saved_model = model.load('fasttext-300.wordvectors')\u001b[0m\u001b[0;34m\u001b[0m\u001b[0;34m\u001b[0m\u001b[0m\n\u001b[1;32m      5\u001b[0m \u001b[0;34m\u001b[0m\u001b[0m\n",
            "\u001b[0;32m/usr/local/lib/python3.10/dist-packages/gensim/utils.py\u001b[0m in \u001b[0;36mload\u001b[0;34m(cls, fname, mmap)\u001b[0m\n\u001b[1;32m    484\u001b[0m         \u001b[0mcompress\u001b[0m\u001b[0;34m,\u001b[0m \u001b[0msubname\u001b[0m \u001b[0;34m=\u001b[0m \u001b[0mSaveLoad\u001b[0m\u001b[0;34m.\u001b[0m\u001b[0m_adapt_by_suffix\u001b[0m\u001b[0;34m(\u001b[0m\u001b[0mfname\u001b[0m\u001b[0;34m)\u001b[0m\u001b[0;34m\u001b[0m\u001b[0;34m\u001b[0m\u001b[0m\n\u001b[1;32m    485\u001b[0m \u001b[0;34m\u001b[0m\u001b[0m\n\u001b[0;32m--> 486\u001b[0;31m         \u001b[0mobj\u001b[0m \u001b[0;34m=\u001b[0m \u001b[0munpickle\u001b[0m\u001b[0;34m(\u001b[0m\u001b[0mfname\u001b[0m\u001b[0;34m)\u001b[0m\u001b[0;34m\u001b[0m\u001b[0;34m\u001b[0m\u001b[0m\n\u001b[0m\u001b[1;32m    487\u001b[0m         \u001b[0mobj\u001b[0m\u001b[0;34m.\u001b[0m\u001b[0m_load_specials\u001b[0m\u001b[0;34m(\u001b[0m\u001b[0mfname\u001b[0m\u001b[0;34m,\u001b[0m \u001b[0mmmap\u001b[0m\u001b[0;34m,\u001b[0m \u001b[0mcompress\u001b[0m\u001b[0;34m,\u001b[0m \u001b[0msubname\u001b[0m\u001b[0;34m)\u001b[0m\u001b[0;34m\u001b[0m\u001b[0;34m\u001b[0m\u001b[0m\n\u001b[1;32m    488\u001b[0m         \u001b[0mobj\u001b[0m\u001b[0;34m.\u001b[0m\u001b[0madd_lifecycle_event\u001b[0m\u001b[0;34m(\u001b[0m\u001b[0;34m\"loaded\"\u001b[0m\u001b[0;34m,\u001b[0m \u001b[0mfname\u001b[0m\u001b[0;34m=\u001b[0m\u001b[0mfname\u001b[0m\u001b[0;34m)\u001b[0m\u001b[0;34m\u001b[0m\u001b[0;34m\u001b[0m\u001b[0m\n",
            "\u001b[0;32m/usr/local/lib/python3.10/dist-packages/gensim/utils.py\u001b[0m in \u001b[0;36munpickle\u001b[0;34m(fname)\u001b[0m\n\u001b[1;32m   1458\u001b[0m \u001b[0;34m\u001b[0m\u001b[0m\n\u001b[1;32m   1459\u001b[0m     \"\"\"\n\u001b[0;32m-> 1460\u001b[0;31m     \u001b[0;32mwith\u001b[0m \u001b[0mopen\u001b[0m\u001b[0;34m(\u001b[0m\u001b[0mfname\u001b[0m\u001b[0;34m,\u001b[0m \u001b[0;34m'rb'\u001b[0m\u001b[0;34m)\u001b[0m \u001b[0;32mas\u001b[0m \u001b[0mf\u001b[0m\u001b[0;34m:\u001b[0m\u001b[0;34m\u001b[0m\u001b[0;34m\u001b[0m\u001b[0m\n\u001b[0m\u001b[1;32m   1461\u001b[0m         \u001b[0;32mreturn\u001b[0m \u001b[0m_pickle\u001b[0m\u001b[0;34m.\u001b[0m\u001b[0mload\u001b[0m\u001b[0;34m(\u001b[0m\u001b[0mf\u001b[0m\u001b[0;34m,\u001b[0m \u001b[0mencoding\u001b[0m\u001b[0;34m=\u001b[0m\u001b[0;34m'latin1'\u001b[0m\u001b[0;34m)\u001b[0m  \u001b[0;31m# needed because loading from S3 doesn't support readline()\u001b[0m\u001b[0;34m\u001b[0m\u001b[0;34m\u001b[0m\u001b[0m\n\u001b[1;32m   1462\u001b[0m \u001b[0;34m\u001b[0m\u001b[0m\n",
            "\u001b[0;32m/usr/local/lib/python3.10/dist-packages/smart_open/smart_open_lib.py\u001b[0m in \u001b[0;36mopen\u001b[0;34m(uri, mode, buffering, encoding, errors, newline, closefd, opener, compression, transport_params)\u001b[0m\n\u001b[1;32m    175\u001b[0m         \u001b[0mtransport_params\u001b[0m \u001b[0;34m=\u001b[0m \u001b[0;34m{\u001b[0m\u001b[0;34m}\u001b[0m\u001b[0;34m\u001b[0m\u001b[0;34m\u001b[0m\u001b[0m\n\u001b[1;32m    176\u001b[0m \u001b[0;34m\u001b[0m\u001b[0m\n\u001b[0;32m--> 177\u001b[0;31m     fobj = _shortcut_open(\n\u001b[0m\u001b[1;32m    178\u001b[0m         \u001b[0muri\u001b[0m\u001b[0;34m,\u001b[0m\u001b[0;34m\u001b[0m\u001b[0;34m\u001b[0m\u001b[0m\n\u001b[1;32m    179\u001b[0m         \u001b[0mmode\u001b[0m\u001b[0;34m,\u001b[0m\u001b[0;34m\u001b[0m\u001b[0;34m\u001b[0m\u001b[0m\n",
            "\u001b[0;32m/usr/local/lib/python3.10/dist-packages/smart_open/smart_open_lib.py\u001b[0m in \u001b[0;36m_shortcut_open\u001b[0;34m(uri, mode, compression, buffering, encoding, errors, newline)\u001b[0m\n\u001b[1;32m    361\u001b[0m         \u001b[0mopen_kwargs\u001b[0m\u001b[0;34m[\u001b[0m\u001b[0;34m'errors'\u001b[0m\u001b[0;34m]\u001b[0m \u001b[0;34m=\u001b[0m \u001b[0merrors\u001b[0m\u001b[0;34m\u001b[0m\u001b[0;34m\u001b[0m\u001b[0m\n\u001b[1;32m    362\u001b[0m \u001b[0;34m\u001b[0m\u001b[0m\n\u001b[0;32m--> 363\u001b[0;31m     \u001b[0;32mreturn\u001b[0m \u001b[0m_builtin_open\u001b[0m\u001b[0;34m(\u001b[0m\u001b[0mlocal_path\u001b[0m\u001b[0;34m,\u001b[0m \u001b[0mmode\u001b[0m\u001b[0;34m,\u001b[0m \u001b[0mbuffering\u001b[0m\u001b[0;34m=\u001b[0m\u001b[0mbuffering\u001b[0m\u001b[0;34m,\u001b[0m \u001b[0;34m**\u001b[0m\u001b[0mopen_kwargs\u001b[0m\u001b[0;34m)\u001b[0m\u001b[0;34m\u001b[0m\u001b[0;34m\u001b[0m\u001b[0m\n\u001b[0m\u001b[1;32m    364\u001b[0m \u001b[0;34m\u001b[0m\u001b[0m\n\u001b[1;32m    365\u001b[0m \u001b[0;34m\u001b[0m\u001b[0m\n",
            "\u001b[0;31mFileNotFoundError\u001b[0m: [Errno 2] No such file or directory: 'fasttext-300.wordvectors'"
          ]
        }
      ]
    },
    {
      "cell_type": "code",
      "source": [
        "#model testing code...\n",
        "model['dog'].shape"
      ],
      "metadata": {
        "colab": {
          "base_uri": "https://localhost:8080/"
        },
        "id": "KEr1W4W3VeC6",
        "outputId": "72465392-a6c8-4d60-9292-d7404e3cacbb"
      },
      "execution_count": 83,
      "outputs": [
        {
          "output_type": "execute_result",
          "data": {
            "text/plain": [
              "(300,)"
            ]
          },
          "metadata": {},
          "execution_count": 83
        }
      ]
    },
    {
      "cell_type": "markdown",
      "source": [
        "## Compare for similarity between topics"
      ],
      "metadata": {
        "id": "6ZKr4Pso84gd"
      }
    },
    {
      "cell_type": "code",
      "source": [
        "# [dictnry.id2token[val[0]] for val in bow[0]]"
      ],
      "metadata": {
        "id": "EhR8rOW58lcJ"
      },
      "execution_count": null,
      "outputs": []
    },
    {
      "cell_type": "code",
      "source": [
        "\n",
        "def get_word_vector(word: str):\n",
        "  try:\n",
        "    return model[word]\n",
        "  except KeyError:\n",
        "    print(f\"{word} not found in dictionary\")\n",
        "    return np.zeros(300,)\n",
        "\n",
        "def find_mean_embed_of_topic(topic_idx: int):\n",
        "    topic_words_list = [dictnry.id2token[val[0]] for val in lda_model.get_topic_terms(topic_idx,topn=20)]\n",
        "    topic_embed = [get_word_vector(val) for val in topic_words_list]\n",
        "    mean_embed = np.array(topic_embed).mean(axis=0)\n",
        "    print(mean_embed.shape)\n",
        "    return mean_embed"
      ],
      "metadata": {
        "id": "gOjNmdIfz-OM"
      },
      "execution_count": 85,
      "outputs": []
    },
    {
      "cell_type": "code",
      "source": [
        "X = []\n",
        "for i in range(NUM_OF_TOPICS):\n",
        "  X.append(find_mean_embed_of_topic(i))\n",
        "X = np.array(X)\n",
        "X.shape"
      ],
      "metadata": {
        "colab": {
          "base_uri": "https://localhost:8080/"
        },
        "id": "vxgW7C5PF-d3",
        "outputId": "d7c1a571-08f7-4c50-f6b1-92b3ebcf9925"
      },
      "execution_count": 86,
      "outputs": [
        {
          "output_type": "stream",
          "name": "stdout",
          "text": [
            "(300,)\n",
            "(300,)\n",
            "(300,)\n",
            "(300,)\n"
          ]
        },
        {
          "output_type": "execute_result",
          "data": {
            "text/plain": [
              "(4, 300)"
            ]
          },
          "metadata": {},
          "execution_count": 86
        }
      ]
    },
    {
      "cell_type": "code",
      "source": [
        "# xt = np.arange(24).reshape(6,4)\n",
        "# xt = np.random.random((6,4))\n",
        "# xt.tofile('test_file')\n",
        "# # X.tofile('Xref_embeddings')\n",
        "# xt"
      ],
      "metadata": {
        "id": "BCBDI5-kkwVL"
      },
      "execution_count": 67,
      "outputs": []
    },
    {
      "cell_type": "code",
      "source": [
        "# xt_rec = np.fromfile('test_file')\n",
        "# xt_rec.reshape(6,4)"
      ],
      "metadata": {
        "id": "UL6_aZLEp9Yq"
      },
      "execution_count": 68,
      "outputs": []
    },
    {
      "cell_type": "markdown",
      "source": [
        "Load Previous Topics embeddings"
      ],
      "metadata": {
        "id": "9I41kd60s4xc"
      }
    },
    {
      "cell_type": "code",
      "source": [
        "x_ref = np.fromfile('Xref_embeddings')\n",
        "print(x_ref.shape)\n",
        "x_ref = x_ref.reshape(18,300)\n",
        "x_ref.shape"
      ],
      "metadata": {
        "colab": {
          "base_uri": "https://localhost:8080/"
        },
        "id": "3CSZt-sslYtl",
        "outputId": "cd8f55f9-b574-4808-f39e-b65624d35a74"
      },
      "execution_count": null,
      "outputs": [
        {
          "output_type": "stream",
          "name": "stdout",
          "text": [
            "(5400,)\n"
          ]
        },
        {
          "output_type": "execute_result",
          "data": {
            "text/plain": [
              "(18, 300)"
            ]
          },
          "metadata": {},
          "execution_count": 49
        }
      ]
    },
    {
      "cell_type": "code",
      "source": [
        "from sklearn.metrics.pairwise import cosine_similarity\n",
        "def find_cosine_sim(X, Y):\n",
        "  if len(X.shape) == 1:\n",
        "    X = X[np.newaxis,...]\n",
        "  if len(Y.shape) == 1:\n",
        "    Y = Y[np.newaxis,...]\n",
        "\n",
        "  return cosine_similarity(X, Y)"
      ],
      "metadata": {
        "id": "IUgTbc3EWaOW"
      },
      "execution_count": 87,
      "outputs": []
    },
    {
      "cell_type": "markdown",
      "source": [
        "Plot heatmap"
      ],
      "metadata": {
        "id": "0VnQdCxYYUYb"
      }
    },
    {
      "cell_type": "code",
      "source": [
        "import seaborn as sns\n",
        "import matplotlib.pyplot as plt\n",
        "%matplotlib inline"
      ],
      "metadata": {
        "id": "5qL7m68pXmJ2"
      },
      "execution_count": 88,
      "outputs": []
    },
    {
      "cell_type": "code",
      "source": [
        "plt.figure(figsize=((5,5)))\n",
        "sim_matrix = find_cosine_sim(X,X)\n",
        "sns.heatmap(sim_matrix,annot=True,annot_kws={\"fontsize\":6})"
      ],
      "metadata": {
        "colab": {
          "base_uri": "https://localhost:8080/",
          "height": 468
        },
        "id": "SBkd-5bPYZYH",
        "outputId": "48f4deb6-7d12-46a5-daf2-8883af96b79e"
      },
      "execution_count": 90,
      "outputs": [
        {
          "output_type": "execute_result",
          "data": {
            "text/plain": [
              "<Axes: >"
            ]
          },
          "metadata": {},
          "execution_count": 90
        },
        {
          "output_type": "display_data",
          "data": {
            "text/plain": [
              "<Figure size 500x500 with 2 Axes>"
            ],
            "image/png": "[encoded data removed]"
          },
          "metadata": {}
        }
      ]
    },
    {
      "cell_type": "code",
      "source": [],
      "metadata": {
        "id": "kLkLUEv5Yb0M"
      },
      "execution_count": null,
      "outputs": []
    }
  ]
}